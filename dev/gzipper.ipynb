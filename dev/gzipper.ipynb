{
 "cells": [
  {
   "cell_type": "code",
   "execution_count": 2,
   "metadata": {},
   "outputs": [],
   "source": [
    "import gzip \n",
    "import shutil \n",
    "\n",
    "test_file = \"/Users/thomasvandijk/Documents/LEAFS - github/leafs/test_data/Charge-discharge/Maccor/SIM-A7-1039 - 073.txt\"\n",
    "tmp_gz_file = \"/Users/thomasvandijk/Documents/LEAFS - github/leafs/test_data/Charge-discharge/Maccor/maccor_test_file.txt.gz\"\n",
    "temp_gz_file_path = tmp_gz_file\n",
    "with open(test_file, \"rb\") as f_in:\n",
    "        with gzip.open(temp_gz_file_path, \"wb\") as f_out:\n",
    "            shutil.copyfileobj(f_in, f_out)"
   ]
  }
 ],
 "metadata": {
  "interpreter": {
   "hash": "2a1d5918bcf99ecdf39fe343ac1608b5e3bc10034d5f3d2f486fff528b840d72"
  },
  "kernelspec": {
   "display_name": "Python 3.8.5 ('base')",
   "language": "python",
   "name": "python3"
  },
  "language_info": {
   "codemirror_mode": {
    "name": "ipython",
    "version": 3
   },
   "file_extension": ".py",
   "mimetype": "text/x-python",
   "name": "python",
   "nbconvert_exporter": "python",
   "pygments_lexer": "ipython3",
   "version": "3.8.5"
  },
  "orig_nbformat": 4
 },
 "nbformat": 4,
 "nbformat_minor": 2
}
