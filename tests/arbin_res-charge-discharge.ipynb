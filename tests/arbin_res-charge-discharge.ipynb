{
 "metadata": {
  "language_info": {
   "codemirror_mode": {
    "name": "ipython",
    "version": 3
   },
   "file_extension": ".py",
   "mimetype": "text/x-python",
   "name": "python",
   "nbconvert_exporter": "python",
   "pygments_lexer": "ipython3",
   "version": "3.9.6"
  },
  "orig_nbformat": 4,
  "kernelspec": {
   "name": "python3",
   "display_name": "Python 3.9.6 64-bit"
  },
  "interpreter": {
   "hash": "662a4487e0d243008c2c0c0f33d420ddbba073f61f25961083c38baa69332f21"
  }
 },
 "nbformat": 4,
 "nbformat_minor": 2,
 "cells": [
  {
   "cell_type": "code",
   "execution_count": 75,
   "metadata": {},
   "outputs": [],
   "source": [
    "import os \n",
    "import cellpy \n",
    "from cellpy import cellreader\n",
    "from cellpy import prmreader"
   ]
  },
  {
   "cell_type": "code",
   "execution_count": 76,
   "metadata": {},
   "outputs": [],
   "source": [
    "file_name  = r\"C:\\users\\thomasvandijk\\Cellpyleafs\\534_ES_Fe02CDvsNi_Retsch_Wet.res\"\n",
    "mass      = 0.982 # mass of active material in mg\n",
    "out_folder = r\"C:\\users\\thomasvandijk\\Cellpyleafs\""
   ]
  },
  {
   "cell_type": "code",
   "execution_count": 77,
   "metadata": {},
   "outputs": [],
   "source": [
    "d = cellreader.CellpyData()\n",
    "d.from_raw(file_name) # this tells cellpy to read the arbin data file (.res format)\n",
    "d.set_mass(mass)\n"
   ]
  },
  {
   "cell_type": "code",
   "execution_count": 78,
   "metadata": {},
   "outputs": [
    {
     "output_type": "stream",
     "name": "stdout",
     "text": [
      "you have 367 cycles\n"
     ]
    }
   ],
   "source": [
    "d.make_step_table()\n",
    "d.make_summary()\n",
    "list_of_cycles = d.get_cycle_numbers()\n",
    "number_of_cycles = len(list_of_cycles)\n",
    "print(f\"you have {number_of_cycles} cycles\")\n",
    "current,voltage = d.get_cap(5) # current and voltage for cycle 5"
   ]
  },
  {
   "cell_type": "code",
   "execution_count": 79,
   "metadata": {},
   "outputs": [],
   "source": [
    "c = d.cell"
   ]
  },
  {
   "cell_type": "code",
   "execution_count": 80,
   "metadata": {},
   "outputs": [],
   "source": [
    "import plotly.express as px\n",
    "df_raw= c.raw\n",
    "df_raw_small = c.raw.iloc[0:3,0:12] \n",
    "fig = px.scatter(df_raw, y=\"voltage\", title='Discharge Capacity')\n",
    "#fig.show()"
   ]
  },
  {
   "cell_type": "code",
   "execution_count": 81,
   "metadata": {},
   "outputs": [],
   "source": [
    "df_sum = c.summary\n",
    "df_sum_small = df_sum.iloc[0:3,0:10]"
   ]
  },
  {
   "cell_type": "code",
   "execution_count": 82,
   "metadata": {},
   "outputs": [],
   "source": [
    "df_sum['cycle_index']=df_sum.index"
   ]
  },
  {
   "cell_type": "code",
   "execution_count": 83,
   "metadata": {},
   "outputs": [],
   "source": [
    "df_sum2 = df_sum[['cycle_index','data_point', 'test_time', 'date_time', 'end_voltage_charge_u_V','end_voltage_discharge_u_V', 'charge_capacity', 'discharge_capacity','discharge_capacity_u_mAh_g', 'charge_capacity_u_mAh_g','cumulated_discharge_capacity_u_mAh_g','cumulated_charge_capacity_u_mAh_g', 'coulombic_efficiency_u_percentage', 'coulombic_difference_u_mAh_g','cumulated_coulombic_efficiency_u_percentage','cumulated_coulombic_difference_u_mAh_g','discharge_capacity_loss_u_mAh_g','cumulated_discharge_capacity_loss_u_mAh_g','charge_capacity_loss_u_mAh_g','cumulated_charge_capacity_loss_u_mAh_g', 'low_level_u_percentage','high_level_u_percentage', 'cumulated_ric_u_none','cumulated_ric_sei_u_none', 'cumulated_ric_disconnect_u_none','shifted_charge_capacity_u_mAh_g', 'shifted_discharge_capacity_u_mAh_g','normalized_cycle_index', 'charge_c_rate', 'discharge_c_rate']]\r\n",
    "       "
   ]
  },
  {
   "cell_type": "code",
   "execution_count": 84,
   "metadata": {
    "tags": []
   },
   "outputs": [],
   "source": [
    "import json \n",
    "out_summary = json.loads(df_sum2.to_json(orient='split')) # change  df_sum_small when you want to see the structure\n",
    "out_raw = json.loads(df_raw.to_json(orient='split')) # change  df_raw_small when you want to see the structure"
   ]
  },
  {
   "cell_type": "code",
   "execution_count": 85,
   "metadata": {},
   "outputs": [],
   "source": [
    "# the json structure, four arrays in 1 json object. \n",
    "# The experiment_info array might become bigger. We might want to read-out more data from the .res file. The auxiliary table, if existing, will be as long as the experiment_data file\n",
    "xx={\n",
    "        \"experiment_info\":{\n",
    "            \"channel_number\":c.channel_number,\n",
    "            \"schedule_file_name\" : c.schedule_file_name},\n",
    "        \"experiment_summary\": out_summary,\n",
    "        \"auxiliary_table\":{\n",
    "            \"columns\":[\"test_time\",\"date_time\"],\n",
    "            \"index\":[1,2,3],\n",
    "            \"data\":[[12029.0603495076,1572450446000],[20490.1864950906,1572458908000],[29256.6799169249,1572467675000]]},\n",
    "         \"experiment_data\": out_raw\n",
    "    }"
   ]
  },
  {
   "cell_type": "code",
   "execution_count": 86,
   "metadata": {},
   "outputs": [],
   "source": [
    "with open(\"charge-discharge3.json\", \"w\") as f: \n",
    "    json.dump(xx,f)"
   ]
  },
  {
   "cell_type": "code",
   "execution_count": 87,
   "metadata": {},
   "outputs": [],
   "source": [
    "import gzip\n",
    "import shutil \n",
    "with open(\"charge-discharge3.json\",'rb') as f_in: \n",
    "    with gzip.open('charge-discharge3.json.gz','wb') as f_out:\n",
    "        shutil.copyfileobj(f_in,f_out)"
   ]
  }
 ]
}